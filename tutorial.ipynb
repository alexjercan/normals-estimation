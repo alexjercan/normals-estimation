{
  "nbformat": 4,
  "nbformat_minor": 0,
  "metadata": {
    "colab": {
      "name": "Untitled5.ipynb",
      "provenance": [],
      "authorship_tag": "ABX9TyOfH1B7ENZv/0DE8OVyTI6N",
      "include_colab_link": true
    },
    "kernelspec": {
      "name": "python3",
      "display_name": "Python 3"
    },
    "language_info": {
      "name": "python"
    },
    "widgets": {
      "application/vnd.jupyter.widget-state+json": {
        "bf12e768cb3c473fbe0c7c22f6b09dba": {
          "model_module": "@jupyter-widgets/controls",
          "model_name": "HBoxModel",
          "state": {
            "_view_name": "HBoxView",
            "_dom_classes": [],
            "_model_name": "HBoxModel",
            "_view_module": "@jupyter-widgets/controls",
            "_model_module_version": "1.5.0",
            "_view_count": null,
            "_view_module_version": "1.5.0",
            "box_style": "",
            "layout": "IPY_MODEL_56bfaaab45854b6e9cef8e85dda06698",
            "_model_module": "@jupyter-widgets/controls",
            "children": [
              "IPY_MODEL_a3c5f83f24ac4db4a965e9d61d1224b1",
              "IPY_MODEL_31b5d0dba1ed4c7e99c4649637a5e041"
            ]
          }
        },
        "56bfaaab45854b6e9cef8e85dda06698": {
          "model_module": "@jupyter-widgets/base",
          "model_name": "LayoutModel",
          "state": {
            "_view_name": "LayoutView",
            "grid_template_rows": null,
            "right": null,
            "justify_content": null,
            "_view_module": "@jupyter-widgets/base",
            "overflow": null,
            "_model_module_version": "1.2.0",
            "_view_count": null,
            "flex_flow": null,
            "width": null,
            "min_width": null,
            "border": null,
            "align_items": null,
            "bottom": null,
            "_model_module": "@jupyter-widgets/base",
            "top": null,
            "grid_column": null,
            "overflow_y": null,
            "overflow_x": null,
            "grid_auto_flow": null,
            "grid_area": null,
            "grid_template_columns": null,
            "flex": null,
            "_model_name": "LayoutModel",
            "justify_items": null,
            "grid_row": null,
            "max_height": null,
            "align_content": null,
            "visibility": null,
            "align_self": null,
            "height": null,
            "min_height": null,
            "padding": null,
            "grid_auto_rows": null,
            "grid_gap": null,
            "max_width": null,
            "order": null,
            "_view_module_version": "1.2.0",
            "grid_template_areas": null,
            "object_position": null,
            "object_fit": null,
            "grid_auto_columns": null,
            "margin": null,
            "display": null,
            "left": null
          }
        },
        "a3c5f83f24ac4db4a965e9d61d1224b1": {
          "model_module": "@jupyter-widgets/controls",
          "model_name": "FloatProgressModel",
          "state": {
            "_view_name": "ProgressView",
            "style": "IPY_MODEL_2cb0d690b7b542a195c65f7bc0428eb4",
            "_dom_classes": [],
            "description": "100%",
            "_model_name": "FloatProgressModel",
            "bar_style": "success",
            "max": 333639373,
            "_view_module": "@jupyter-widgets/controls",
            "_model_module_version": "1.5.0",
            "value": 333639373,
            "_view_count": null,
            "_view_module_version": "1.5.0",
            "orientation": "horizontal",
            "min": 0,
            "description_tooltip": null,
            "_model_module": "@jupyter-widgets/controls",
            "layout": "IPY_MODEL_f536a0efb9e54820aa76660c2eb2b9cd"
          }
        },
        "31b5d0dba1ed4c7e99c4649637a5e041": {
          "model_module": "@jupyter-widgets/controls",
          "model_name": "HTMLModel",
          "state": {
            "_view_name": "HTMLView",
            "style": "IPY_MODEL_1ffeaf770d49437e8220c0b9f771d456",
            "_dom_classes": [],
            "description": "",
            "_model_name": "HTMLModel",
            "placeholder": "​",
            "_view_module": "@jupyter-widgets/controls",
            "_model_module_version": "1.5.0",
            "value": " 318M/318M [01:09&lt;00:00, 4.78MB/s]",
            "_view_count": null,
            "_view_module_version": "1.5.0",
            "description_tooltip": null,
            "_model_module": "@jupyter-widgets/controls",
            "layout": "IPY_MODEL_bc3677413fa84a13b431ea5ab384ccaf"
          }
        },
        "2cb0d690b7b542a195c65f7bc0428eb4": {
          "model_module": "@jupyter-widgets/controls",
          "model_name": "ProgressStyleModel",
          "state": {
            "_view_name": "StyleView",
            "_model_name": "ProgressStyleModel",
            "description_width": "initial",
            "_view_module": "@jupyter-widgets/base",
            "_model_module_version": "1.5.0",
            "_view_count": null,
            "_view_module_version": "1.2.0",
            "bar_color": null,
            "_model_module": "@jupyter-widgets/controls"
          }
        },
        "f536a0efb9e54820aa76660c2eb2b9cd": {
          "model_module": "@jupyter-widgets/base",
          "model_name": "LayoutModel",
          "state": {
            "_view_name": "LayoutView",
            "grid_template_rows": null,
            "right": null,
            "justify_content": null,
            "_view_module": "@jupyter-widgets/base",
            "overflow": null,
            "_model_module_version": "1.2.0",
            "_view_count": null,
            "flex_flow": null,
            "width": null,
            "min_width": null,
            "border": null,
            "align_items": null,
            "bottom": null,
            "_model_module": "@jupyter-widgets/base",
            "top": null,
            "grid_column": null,
            "overflow_y": null,
            "overflow_x": null,
            "grid_auto_flow": null,
            "grid_area": null,
            "grid_template_columns": null,
            "flex": null,
            "_model_name": "LayoutModel",
            "justify_items": null,
            "grid_row": null,
            "max_height": null,
            "align_content": null,
            "visibility": null,
            "align_self": null,
            "height": null,
            "min_height": null,
            "padding": null,
            "grid_auto_rows": null,
            "grid_gap": null,
            "max_width": null,
            "order": null,
            "_view_module_version": "1.2.0",
            "grid_template_areas": null,
            "object_position": null,
            "object_fit": null,
            "grid_auto_columns": null,
            "margin": null,
            "display": null,
            "left": null
          }
        },
        "1ffeaf770d49437e8220c0b9f771d456": {
          "model_module": "@jupyter-widgets/controls",
          "model_name": "DescriptionStyleModel",
          "state": {
            "_view_name": "StyleView",
            "_model_name": "DescriptionStyleModel",
            "description_width": "",
            "_view_module": "@jupyter-widgets/base",
            "_model_module_version": "1.5.0",
            "_view_count": null,
            "_view_module_version": "1.2.0",
            "_model_module": "@jupyter-widgets/controls"
          }
        },
        "bc3677413fa84a13b431ea5ab384ccaf": {
          "model_module": "@jupyter-widgets/base",
          "model_name": "LayoutModel",
          "state": {
            "_view_name": "LayoutView",
            "grid_template_rows": null,
            "right": null,
            "justify_content": null,
            "_view_module": "@jupyter-widgets/base",
            "overflow": null,
            "_model_module_version": "1.2.0",
            "_view_count": null,
            "flex_flow": null,
            "width": null,
            "min_width": null,
            "border": null,
            "align_items": null,
            "bottom": null,
            "_model_module": "@jupyter-widgets/base",
            "top": null,
            "grid_column": null,
            "overflow_y": null,
            "overflow_x": null,
            "grid_auto_flow": null,
            "grid_area": null,
            "grid_template_columns": null,
            "flex": null,
            "_model_name": "LayoutModel",
            "justify_items": null,
            "grid_row": null,
            "max_height": null,
            "align_content": null,
            "visibility": null,
            "align_self": null,
            "height": null,
            "min_height": null,
            "padding": null,
            "grid_auto_rows": null,
            "grid_gap": null,
            "max_width": null,
            "order": null,
            "_view_module_version": "1.2.0",
            "grid_template_areas": null,
            "object_position": null,
            "object_fit": null,
            "grid_auto_columns": null,
            "margin": null,
            "display": null,
            "left": null
          }
        }
      }
    },
    "accelerator": "GPU"
  },
  "cells": [
    {
      "cell_type": "markdown",
      "metadata": {
        "id": "view-in-github",
        "colab_type": "text"
      },
      "source": [
        "<a href=\"https://colab.research.google.com/github/alexjercan/normals-estimation/blob/master/tutorial.ipynb\" target=\"_parent\"><img src=\"https://colab.research.google.com/assets/colab-badge.svg\" alt=\"Open In Colab\"/></a>"
      ]
    },
    {
      "cell_type": "code",
      "metadata": {
        "colab": {
          "base_uri": "https://localhost:8080/",
          "height": 777
        },
        "id": "4QysbBtih3n-",
        "outputId": "ac3d3090-1ecf-4e1f-847a-955103d004d9"
      },
      "source": [
        "!pip install matplotlib==3.3.3 albumentations==0.5.2"
      ],
      "execution_count": 1,
      "outputs": [
        {
          "output_type": "stream",
          "text": [
            "Collecting matplotlib==3.3.3\n",
            "\u001b[?25l  Downloading https://files.pythonhosted.org/packages/30/f2/10c822cb0ca5ebec58bd1892187bc3e3db64a867ac26531c6204663fc218/matplotlib-3.3.3-cp37-cp37m-manylinux1_x86_64.whl (11.6MB)\n",
            "\u001b[K     |████████████████████████████████| 11.6MB 228kB/s \n",
            "\u001b[?25hCollecting albumentations==0.5.2\n",
            "\u001b[?25l  Downloading https://files.pythonhosted.org/packages/03/58/63fb1d742dc42d9ba2800ea741de1f2bc6bb05548d8724aa84794042eaf2/albumentations-0.5.2-py3-none-any.whl (72kB)\n",
            "\u001b[K     |████████████████████████████████| 81kB 11.3MB/s \n",
            "\u001b[?25hRequirement already satisfied: kiwisolver>=1.0.1 in /usr/local/lib/python3.7/dist-packages (from matplotlib==3.3.3) (1.3.1)\n",
            "Requirement already satisfied: pillow>=6.2.0 in /usr/local/lib/python3.7/dist-packages (from matplotlib==3.3.3) (7.1.2)\n",
            "Requirement already satisfied: numpy>=1.15 in /usr/local/lib/python3.7/dist-packages (from matplotlib==3.3.3) (1.19.5)\n",
            "Requirement already satisfied: pyparsing!=2.0.4,!=2.1.2,!=2.1.6,>=2.0.3 in /usr/local/lib/python3.7/dist-packages (from matplotlib==3.3.3) (2.4.7)\n",
            "Requirement already satisfied: python-dateutil>=2.1 in /usr/local/lib/python3.7/dist-packages (from matplotlib==3.3.3) (2.8.1)\n",
            "Requirement already satisfied: cycler>=0.10 in /usr/local/lib/python3.7/dist-packages (from matplotlib==3.3.3) (0.10.0)\n",
            "Requirement already satisfied: PyYAML in /usr/local/lib/python3.7/dist-packages (from albumentations==0.5.2) (3.13)\n",
            "Requirement already satisfied: scikit-image>=0.16.1 in /usr/local/lib/python3.7/dist-packages (from albumentations==0.5.2) (0.16.2)\n",
            "Collecting imgaug>=0.4.0\n",
            "\u001b[?25l  Downloading https://files.pythonhosted.org/packages/66/b1/af3142c4a85cba6da9f4ebb5ff4e21e2616309552caca5e8acefe9840622/imgaug-0.4.0-py2.py3-none-any.whl (948kB)\n",
            "\u001b[K     |████████████████████████████████| 952kB 37.2MB/s \n",
            "\u001b[?25hCollecting opencv-python-headless>=4.1.1\n",
            "\u001b[?25l  Downloading https://files.pythonhosted.org/packages/c8/84/72ec52fbac4775c2a5bf0ee5573c922a0cac35eb841907edf56493a5e313/opencv_python_headless-4.5.2.52-cp37-cp37m-manylinux2014_x86_64.whl (38.2MB)\n",
            "\u001b[K     |████████████████████████████████| 38.2MB 79kB/s \n",
            "\u001b[?25hRequirement already satisfied: scipy in /usr/local/lib/python3.7/dist-packages (from albumentations==0.5.2) (1.4.1)\n",
            "Requirement already satisfied: six>=1.5 in /usr/local/lib/python3.7/dist-packages (from python-dateutil>=2.1->matplotlib==3.3.3) (1.15.0)\n",
            "Requirement already satisfied: imageio>=2.3.0 in /usr/local/lib/python3.7/dist-packages (from scikit-image>=0.16.1->albumentations==0.5.2) (2.4.1)\n",
            "Requirement already satisfied: PyWavelets>=0.4.0 in /usr/local/lib/python3.7/dist-packages (from scikit-image>=0.16.1->albumentations==0.5.2) (1.1.1)\n",
            "Requirement already satisfied: networkx>=2.0 in /usr/local/lib/python3.7/dist-packages (from scikit-image>=0.16.1->albumentations==0.5.2) (2.5.1)\n",
            "Requirement already satisfied: Shapely in /usr/local/lib/python3.7/dist-packages (from imgaug>=0.4.0->albumentations==0.5.2) (1.7.1)\n",
            "Requirement already satisfied: opencv-python in /usr/local/lib/python3.7/dist-packages (from imgaug>=0.4.0->albumentations==0.5.2) (4.1.2.30)\n",
            "Requirement already satisfied: decorator<5,>=4.3 in /usr/local/lib/python3.7/dist-packages (from networkx>=2.0->scikit-image>=0.16.1->albumentations==0.5.2) (4.4.2)\n",
            "Installing collected packages: matplotlib, imgaug, opencv-python-headless, albumentations\n",
            "  Found existing installation: matplotlib 3.2.2\n",
            "    Uninstalling matplotlib-3.2.2:\n",
            "      Successfully uninstalled matplotlib-3.2.2\n",
            "  Found existing installation: imgaug 0.2.9\n",
            "    Uninstalling imgaug-0.2.9:\n",
            "      Successfully uninstalled imgaug-0.2.9\n",
            "  Found existing installation: albumentations 0.1.12\n",
            "    Uninstalling albumentations-0.1.12:\n",
            "      Successfully uninstalled albumentations-0.1.12\n",
            "Successfully installed albumentations-0.5.2 imgaug-0.4.0 matplotlib-3.3.3 opencv-python-headless-4.5.2.52\n"
          ],
          "name": "stdout"
        },
        {
          "output_type": "display_data",
          "data": {
            "application/vnd.colab-display-data+json": {
              "pip_warning": {
                "packages": [
                  "matplotlib",
                  "mpl_toolkits"
                ]
              }
            }
          },
          "metadata": {
            "tags": []
          }
        }
      ]
    },
    {
      "cell_type": "code",
      "metadata": {
        "colab": {
          "base_uri": "https://localhost:8080/"
        },
        "id": "K7DkyXjFh5kd",
        "outputId": "94acd57d-b95a-4fdf-a3cb-7909174f15dd"
      },
      "source": [
        "!git clone https://github.com/alexjercan/normals-estimation.git\n",
        "%cd normals-estimation\n",
        "\n",
        "import torch\n",
        "from IPython.display import clear_output\n",
        "\n",
        "clear_output()\n",
        "print('Setup complete. Using torch %s %s' % (torch.__version__, torch.cuda.get_device_properties(0) if torch.cuda.is_available() else 'CPU'))"
      ],
      "execution_count": 1,
      "outputs": [
        {
          "output_type": "stream",
          "text": [
            "Setup complete. Using torch 1.8.1+cu101 _CudaDeviceProperties(name='Tesla T4', major=7, minor=5, total_memory=15109MB, multi_processor_count=40)\n"
          ],
          "name": "stdout"
        }
      ]
    },
    {
      "cell_type": "code",
      "metadata": {
        "colab": {
          "base_uri": "https://localhost:8080/",
          "height": 66,
          "referenced_widgets": [
            "bf12e768cb3c473fbe0c7c22f6b09dba",
            "56bfaaab45854b6e9cef8e85dda06698",
            "a3c5f83f24ac4db4a965e9d61d1224b1",
            "31b5d0dba1ed4c7e99c4649637a5e041",
            "2cb0d690b7b542a195c65f7bc0428eb4",
            "f536a0efb9e54820aa76660c2eb2b9cd",
            "1ffeaf770d49437e8220c0b9f771d456",
            "bc3677413fa84a13b431ea5ab384ccaf"
          ]
        },
        "id": "ICcCN_OLiB4E",
        "outputId": "564c18c4-0dd4-4aba-ba69-d2dc228a113e"
      },
      "source": [
        "# Download pretrained model\n",
        "torch.hub.download_url_to_file('https://github.com/alexjercan/normals-estimation/releases/download/v1.0/normal.pth', 'normal.pth')"
      ],
      "execution_count": 2,
      "outputs": [
        {
          "output_type": "display_data",
          "data": {
            "application/vnd.jupyter.widget-view+json": {
              "model_id": "bf12e768cb3c473fbe0c7c22f6b09dba",
              "version_minor": 0,
              "version_major": 2
            },
            "text/plain": [
              "HBox(children=(FloatProgress(value=0.0, max=333639373.0), HTML(value='')))"
            ]
          },
          "metadata": {
            "tags": []
          }
        },
        {
          "output_type": "stream",
          "text": [
            "\n"
          ],
          "name": "stdout"
        }
      ]
    },
    {
      "cell_type": "code",
      "metadata": {
        "id": "bZMqCbSzzzNM",
        "outputId": "b786a139-66ae-4b69-d867-3b38777f5289",
        "colab": {
          "base_uri": "https://localhost:8080/"
        }
      },
      "source": [
        "# Download dataset stereo\n",
        "!bash ./get_bdataset.sh"
      ],
      "execution_count": 3,
      "outputs": [
        {
          "output_type": "stream",
          "text": [
            "Downloading ...\n",
            "  % Total    % Received % Xferd  Average Speed   Time    Time     Time  Current\n",
            "                                 Dload  Upload   Total   Spent    Left  Speed\n",
            "100   408    0   408    0     0   3961      0 --:--:-- --:--:-- --:--:--  3961\n",
            "  0     0    0     0    0     0      0      0 --:--:-- --:--:-- --:--:--     0\n",
            "  0     0    0     0    0     0      0      0 --:--:-- --:--:-- --:--:--     0\n",
            "100 1262M    0 1262M    0     0  78.6M      0 --:--:--  0:00:16 --:--:-- 81.8M\n",
            "Completed in 41 seconds\n"
          ],
          "name": "stdout"
        }
      ]
    },
    {
      "cell_type": "code",
      "metadata": {
        "colab": {
          "base_uri": "https://localhost:8080/"
        },
        "id": "r9IOxyIUiF66",
        "outputId": "e186b71a-c33f-4431-c2e0-a5fcd87a6538"
      },
      "source": [
        "!git pull\n",
        "!python dataset.py\n",
        "!python model.py"
      ],
      "execution_count": 4,
      "outputs": [
        {
          "output_type": "stream",
          "text": [
            "Already up to date.\n",
            "dataset ok\n",
            "model ok\n"
          ],
          "name": "stdout"
        }
      ]
    },
    {
      "cell_type": "code",
      "metadata": {
        "id": "8iPrJljdiIZr"
      },
      "source": [
        "import os\n",
        "import re\n",
        "import torch\n",
        "import torch.optim\n",
        "import albumentations as A\n",
        "import my_albumentations as M\n",
        "\n",
        "from datetime import datetime as dt\n",
        "from albumentations.pytorch.transforms import ToTensorV2\n",
        "from config import DEVICE\n",
        "from model import Model, LossFunction\n",
        "from general import init_weights, load_checkpoint, save_checkpoint\n",
        "from dataset import create_dataloader\n",
        "from metrics import MetricFunction, print_single_error\n",
        "from detect import generatePredictions\n",
        "from train import train_one_epoch\n",
        "from test import run_test\n",
        "from util import save_predictions, plot_predictions\n",
        "from dataset import LoadImages\n",
        "\n",
        "IMAGE_SIZE = 256\n",
        "DATASET_ROOT = \"../bdataset_stereo\"\n",
        "TRAIN_JSON_PATH = \"train.json\"\n",
        "TEST_JSON_PATH = \"test.json\"\n",
        "IMAGES = [{\"imageL\": \"data/left.png\", \"imageR\": \"data/right.png\", \"output\": \"data/output.exr\"}]\n",
        "BATCH_SIZE = 8\n",
        "WORKERS = 8\n",
        "\n",
        "LEARNING_RATE = 1e-4\n",
        "BETAS = [.9, .999]\n",
        "EPS = 0.00000001\n",
        "WEIGHT_DECAY = 0.0001\n",
        "\n",
        "MILESTONES = [50, 100, 200]\n",
        "GAMMA = 0.2\n",
        "\n",
        "NUM_EPOCHS = 300\n",
        "OUT_PATH = \"./runs\"\n",
        "LOAD_TRAIN_MODEL = False\n",
        "LOAD_TEST_MODEL = False\n",
        "CHECKPOINT_TRAIN_FILE = \"normal.pth\"\n",
        "CHECKPOINT_TEST_FILE = \"normal.pth\"\n",
        "\n",
        "torch.backends.cudnn.benchmark = True"
      ],
      "execution_count": 11,
      "outputs": []
    },
    {
      "cell_type": "code",
      "metadata": {
        "id": "KmfqcnLnidxt"
      },
      "source": [
        "train_transform = A.Compose(\n",
        "    [\n",
        "        M.MyRandomResizedCrop(width=IMAGE_SIZE, height=IMAGE_SIZE),\n",
        "        A.OneOf([\n",
        "            A.MotionBlur(p=0.2),\n",
        "            A.MedianBlur(blur_limit=3, p=0.1),\n",
        "            A.Blur(blur_limit=3, p=0.1),\n",
        "        ], p=0.2),\n",
        "        A.OneOf([\n",
        "            M.MyOpticalDistortion(p=0.3),\n",
        "            M.MyGridDistortion(p=0.1),\n",
        "            M.MyIAAPiecewiseAffine(p=0.3),\n",
        "        ], p=0.2),\n",
        "        A.OneOf([\n",
        "            A.IAASharpen(),\n",
        "            A.IAAEmboss(),\n",
        "            A.RandomBrightnessContrast(),            \n",
        "        ], p=0.3),\n",
        "        A.Normalize(),\n",
        "        M.MyToTensorV2(),\n",
        "    ],\n",
        "    additional_targets={\n",
        "        'right_img': 'image',\n",
        "        'left_normal': 'normal',\n",
        "        'right_normal': 'normal',\n",
        "    }\n",
        ")\n",
        "\n",
        "test_transform = A.Compose(\n",
        "    [\n",
        "        A.Normalize(),\n",
        "        M.MyToTensorV2(),\n",
        "    ],\n",
        "    additional_targets={\n",
        "        'right_img': 'image',\n",
        "        'left_normal': 'normal',\n",
        "        'right_normal': 'normal',\n",
        "    }\n",
        ")\n",
        "\n",
        "detect_transform = A.Compose(\n",
        "    [\n",
        "        A.Resize(height=IMAGE_SIZE, width=IMAGE_SIZE),\n",
        "        A.Normalize(),\n",
        "        ToTensorV2(),\n",
        "    ],\n",
        "    additional_targets={\n",
        "        'right_img': 'image',\n",
        "    }\n",
        ")\n",
        "\n",
        "_, train_dataloader = create_dataloader(DATASET_ROOT, TRAIN_JSON_PATH, \n",
        "                                        batch_size=BATCH_SIZE, transform=train_transform, \n",
        "                                        workers=WORKERS, pin_memory=True, shuffle=True)\n",
        "\n",
        "_, test_dataloader = create_dataloader(DATASET_ROOT, TEST_JSON_PATH,\n",
        "                                       batch_size=BATCH_SIZE, transform=test_transform,\n",
        "                                       workers=WORKERS, pin_memory=True, shuffle=False)\n"
      ],
      "execution_count": 12,
      "outputs": []
    },
    {
      "cell_type": "code",
      "metadata": {
        "id": "nz2cvcANizZ1"
      },
      "source": [
        "model = Model()\n",
        "model.apply(init_weights)\n",
        "solver = torch.optim.Adam(filter(lambda p: p.requires_grad, model.parameters()), \n",
        "                          lr=LEARNING_RATE, betas=BETAS, \n",
        "                          eps=EPS, weight_decay=WEIGHT_DECAY)\n",
        "lr_scheduler = torch.optim.lr_scheduler.MultiStepLR(solver, milestones=MILESTONES, gamma=GAMMA)\n",
        "model = model.to(DEVICE)\n",
        "loss_fn = LossFunction()"
      ],
      "execution_count": 13,
      "outputs": []
    },
    {
      "cell_type": "code",
      "metadata": {
        "id": "MTS1XGqki2To",
        "colab": {
          "base_uri": "https://localhost:8080/"
        },
        "outputId": "030086d1-a57d-4104-c85f-799de97c6833"
      },
      "source": [
        "epoch_idx = 0\n",
        "if LOAD_TRAIN_MODEL:\n",
        "    epoch_idx, model = load_checkpoint(model, CHECKPOINT_TRAIN_FILE, DEVICE)\n",
        "\n",
        "model.train()\n",
        "for epoch_idx in range(epoch_idx, NUM_EPOCHS):\n",
        "    metric_fn = MetricFunction(BATCH_SIZE)\n",
        "    train_one_epoch(model, train_dataloader, loss_fn, metric_fn, solver, epoch_idx)\n",
        "    print_single_error(epoch_idx, loss_fn.show(), metric_fn.show())\n",
        "    lr_scheduler.step()\n"
      ],
      "execution_count": null,
      "outputs": [
        {
          "output_type": "stream",
          "text": [
            "100%|██████████| 306/306 [02:55<00:00,  1.75it/s, epoch=50, loss=(total:6.0338 l1:0.14519360661506653 1-cos:5.888592720031738)]\n",
            "  0%|          | 0/306 [00:00<?, ?it/s]"
          ],
          "name": "stderr"
        },
        {
          "output_type": "stream",
          "text": [
            "eval_avg_error\n",
            "Epoch: 50, loss=(total:6.0338 l1:0.14519360661506653 1-cos:5.888592720031738)\n",
            "======NORMALS=======\n",
            "MSE=1.7935\tRMSE=1.3382\tMAE=1.2245\tMME=1.5699\n",
            "TANGLE11.25=0.0616\tTANGLE22.5=0.1491\tTANGLE30.0=0.1953\n",
            "\n"
          ],
          "name": "stdout"
        },
        {
          "output_type": "stream",
          "text": [
            "100%|██████████| 306/306 [03:01<00:00,  1.68it/s, epoch=51, loss=(total:6.9712 l1:0.08931058645248413 1-cos:6.881912708282471)]\n",
            "  0%|          | 0/306 [00:00<?, ?it/s]"
          ],
          "name": "stderr"
        },
        {
          "output_type": "stream",
          "text": [
            "eval_avg_error\n",
            "Epoch: 51, loss=(total:6.9712 l1:0.08931058645248413 1-cos:6.881912708282471)\n",
            "======NORMALS=======\n",
            "MSE=1.7971\tRMSE=1.3396\tMAE=1.2254\tMME=1.5700\n",
            "TANGLE11.25=0.0630\tTANGLE22.5=0.1497\tTANGLE30.0=0.1952\n",
            "\n"
          ],
          "name": "stdout"
        },
        {
          "output_type": "stream",
          "text": [
            "100%|██████████| 306/306 [02:52<00:00,  1.78it/s, epoch=52, loss=(total:4.7935 l1:0.17069274187088013 1-cos:4.622811317443848)]\n",
            "  0%|          | 0/306 [00:00<?, ?it/s]"
          ],
          "name": "stderr"
        },
        {
          "output_type": "stream",
          "text": [
            "eval_avg_error\n",
            "Epoch: 52, loss=(total:4.7935 l1:0.17069274187088013 1-cos:4.622811317443848)\n",
            "======NORMALS=======\n",
            "MSE=1.7811\tRMSE=1.3336\tMAE=1.2188\tMME=1.5676\n",
            "TANGLE11.25=0.0641\tTANGLE22.5=0.1514\tTANGLE30.0=0.1977\n",
            "\n"
          ],
          "name": "stdout"
        },
        {
          "output_type": "stream",
          "text": [
            "100%|██████████| 306/306 [03:02<00:00,  1.68it/s, epoch=53, loss=(total:6.8476 l1:0.11418324708938599 1-cos:6.733408451080322)]\n",
            "  0%|          | 0/306 [00:00<?, ?it/s]"
          ],
          "name": "stderr"
        },
        {
          "output_type": "stream",
          "text": [
            "eval_avg_error\n",
            "Epoch: 53, loss=(total:6.8476 l1:0.11418324708938599 1-cos:6.733408451080322)\n",
            "======NORMALS=======\n",
            "MSE=1.7803\tRMSE=1.3334\tMAE=1.2183\tMME=1.5696\n",
            "TANGLE11.25=0.0636\tTANGLE22.5=0.1528\tTANGLE30.0=0.1992\n",
            "\n"
          ],
          "name": "stdout"
        },
        {
          "output_type": "stream",
          "text": [
            " 67%|██████▋   | 206/306 [01:57<00:49,  2.01it/s, epoch=54, loss=(total:7.3229 l1:0.11043494194746017 1-cos:7.212463855743408)]"
          ],
          "name": "stderr"
        }
      ]
    },
    {
      "cell_type": "code",
      "metadata": {
        "colab": {
          "base_uri": "https://localhost:8080/"
        },
        "id": "-o5nlrHyjhbw",
        "outputId": "06596c48-5f53-4294-8f65-40e3b6c84c7a"
      },
      "source": [
        "if LOAD_TEST_MODEL:\n",
        "    epoch_idx, model = load_checkpoint(model, CHECKPOINT_TEST_FILE, DEVICE)\n",
        "\n",
        "model.eval()\n",
        "metric_fn = MetricFunction(BATCH_SIZE)\n",
        "run_test(model, test_dataloader, loss_fn, metric_fn)\n",
        "print_single_error(epoch_idx, loss_fn.show(), metric_fn.show())"
      ],
      "execution_count": 8,
      "outputs": [
        {
          "output_type": "stream",
          "text": [
            "100%|██████████| 153/153 [00:27<00:00,  5.63it/s]"
          ],
          "name": "stderr"
        },
        {
          "output_type": "stream",
          "text": [
            "eval_avg_error\n",
            "Epoch: 50, loss=(total:6.2593 l1:0.14681604504585266 1-cos:6.112497806549072)\n",
            "======NORMALS=======\n",
            "MSE=1.8946\tRMSE=1.3744\tMAE=1.2770\tMME=1.5708\n",
            "TANGLE11.25=0.0586\tTANGLE22.5=0.1324\tTANGLE30.0=0.1695\n",
            "\n"
          ],
          "name": "stdout"
        },
        {
          "output_type": "stream",
          "text": [
            "\n"
          ],
          "name": "stderr"
        }
      ]
    },
    {
      "cell_type": "code",
      "metadata": {
        "id": "-vp_Jvanjqhm",
        "colab": {
          "base_uri": "https://localhost:8080/",
          "height": 510
        },
        "outputId": "f5e95b53-61bf-4320-e279-6ce85e908b9b"
      },
      "source": [
        "if LOAD_TEST_MODEL:\n",
        "    epoch_idx, model = load_checkpoint(model, CHECKPOINT_TEST_FILE, DEVICE)\n",
        "\n",
        "model.eval()\n",
        "images = LoadImages(IMAGES, transform=detect_transform)\n",
        "for img, predictions, path in generatePredictions(model, images):\n",
        "    plot_predictions([img], predictions, [path])\n",
        "    save_predictions(predictions, [path])"
      ],
      "execution_count": 9,
      "outputs": [
        {
          "output_type": "stream",
          "text": [
            "Clipping input data to the valid range for imshow with RGB data ([0..1] for floats or [0..255] for integers).\n"
          ],
          "name": "stderr"
        },
        {
          "output_type": "display_data",
          "data": {
            "image/png": "[encoded data removed]",
            "text/plain": [
              "<Figure size 432x288 with 2 Axes>"
            ]
          },
          "metadata": {
            "tags": [],
            "needs_background": "light"
          }
        },
        {
          "output_type": "stream",
          "text": [
            "Clipping input data to the valid range for imshow with RGB data ([0..1] for floats or [0..255] for integers).\n"
          ],
          "name": "stderr"
        },
        {
          "output_type": "display_data",
          "data": {
            "image/png": "[encoded data removed]",
            "text/plain": [
              "<Figure size 432x288 with 1 Axes>"
            ]
          },
          "metadata": {
            "tags": [],
            "needs_background": "light"
          }
        }
      ]
    },
    {
      "cell_type": "code",
      "metadata": {
        "id": "9KWNLIzCjwmo"
      },
      "source": [
        "output_dir = os.path.join(OUT_PATH, re.sub(\"[^0-9a-zA-Z]+\", \"-\", dt.now().isoformat()))\n",
        "\n",
        "save_checkpoint(epoch_idx, model, output_dir)"
      ],
      "execution_count": null,
      "outputs": []
    }
  ]
}